{
 "cells": [
  {
   "cell_type": "code",
   "execution_count": null,
   "metadata": {},
   "outputs": [],
   "source": [
    "from odc.stac import configure_s3_access, load\n",
    "from pystac_client import Client as PystacClient\n",
    "import numpy as np\n",
    "import odc.geo.xr\n"
   ]
  },
  {
   "cell_type": "code",
   "execution_count": null,
   "metadata": {},
   "outputs": [],
   "source": [
    "from dask.distributed import Client as DaskClient\n",
    "\n",
    "dask_client = DaskClient()\n",
    "dask_client"
   ]
  },
  {
   "cell_type": "code",
   "execution_count": null,
   "metadata": {},
   "outputs": [],
   "source": [
    "catalog = \"https://explorer.dea.ga.gov.au/stac\"\n",
    "\n",
    "stac_client = PystacClient.open(catalog)\n",
    "\n",
    "configure_s3_access(\n",
    "    cloud_defaults=True,\n",
    "    aws_unsigned=True,\n",
    ")"
   ]
  },
  {
   "cell_type": "code",
   "execution_count": null,
   "metadata": {},
   "outputs": [],
   "source": [
    "date_query = ['2022-10','2022-12']\n",
    "\n",
    "collections_query = ['ga_ls8c_ard_3', 'ga_ls9c_ard_3']\n",
    "\n",
    "filter_query = \"eo:cloud_cover < 10\"\n",
    "\n",
    "#landsat 5 ['ga_ls5t_ard_3']\n",
    "#landsat 8 and 9 ['ga_ls8c_ard_3', 'ga_ls9c_ard_3']"
   ]
  },
  {
   "cell_type": "code",
   "execution_count": null,
   "metadata": {},
   "outputs": [],
   "source": [
    "items = stac_client.search(\n",
    "    collections = collections_query,\n",
    "    bbox= [145.910476061,-29.153361653,148.745019431,-30.128112653],\n",
    "    datetime = date_query,\n",
    "    filter= filter_query\n",
    ").item_collection()\n",
    "\n",
    "print(f\"Found {len(items)} items\")\n",
    "\n",
    "#bbox south [145.910476061,-29.153361653,148.745019431,-30.128112653]\n",
    "#bbox north [146.963236949,-27.723499515,148.806899103,-29.169637680]"
   ]
  },
  {
   "cell_type": "code",
   "execution_count": null,
   "metadata": {},
   "outputs": [],
   "source": [
    "ds_filtered = load(\n",
    "    items,\n",
    "    bands=['nbart_red', 'nbart_green', 'nbart_nir',\n",
    "                     'nbart_swir_1', 'nbart_swir_2'],\n",
    "    crs=\"utm\",\n",
    "    chunks={\"time\": 27, \"x\": 400, \"y\": 400},\n",
    "    resolution=30,\n",
    "    groupby=\"solar_day\",\n",
    "    bbox= [145.910476061,-29.153361653,148.745019431,-30.128112653],\n",
    ")\n",
    "\n",
    "ds_filtered"
   ]
  },
  {
   "cell_type": "code",
   "execution_count": null,
   "metadata": {},
   "outputs": [],
   "source": [
    "# Calculate the chosen vegetation proxy index and add it to the loaded data set\n",
    "ds_filtered['fwi'] =1.7204 + 171*(ds_filtered.nbart_green/10000) + 3*(ds_filtered.nbart_red/10000) - 70*(ds_filtered.nbart_nir/10000) - 45*(ds_filtered.nbart_swir_1/10000)-71*(ds_filtered.nbart_swir_2/10000)\n",
    "\n",
    "X_bin = ds_filtered['fwi'] >= -10.63 #water indez threhsold using Narran Lakes floodplain data\n",
    "\n",
    "X_bin = X_bin.where(np.isnan(ds_filtered['fwi'])==False, np.nan)\n",
    "\n",
    "ds_masked['water'] = X_bin"
   ]
  },
  {
   "cell_type": "code",
   "execution_count": null,
   "metadata": {},
   "outputs": [],
   "source": [
    "# Resample using medians\n",
    "print(\"Calculating seasonal maximum water extent...\")\n",
    "seasonmawater = ds_masked['water'].quantile(.95,'time').compute()\n",
    "\n",
    "seasonmaxwater"
   ]
  },
  {
   "cell_type": "code",
   "execution_count": null,
   "metadata": {},
   "outputs": [],
   "source": [
    "seasonmaxfwi.odc.write_cog(\n",
    "    \"spring22maxextent_south.tif\",\n",
    "    overwrite = True\n",
    ")"
   ]
  },
  {
   "cell_type": "code",
   "execution_count": null,
   "metadata": {},
   "outputs": [],
   "source": []
  }
 ],
 "metadata": {
  "kernelspec": {
   "display_name": "Python 3 (ipykernel)",
   "language": "python",
   "name": "python3"
  },
  "language_info": {
   "codemirror_mode": {
    "name": "ipython",
    "version": 3
   },
   "file_extension": ".py",
   "mimetype": "text/x-python",
   "name": "python",
   "nbconvert_exporter": "python",
   "pygments_lexer": "ipython3",
   "version": "3.10.15"
  }
 },
 "nbformat": 4,
 "nbformat_minor": 4
}
